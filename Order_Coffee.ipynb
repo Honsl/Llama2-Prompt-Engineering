{
  "nbformat": 4,
  "nbformat_minor": 0,
  "metadata": {
    "colab": {
      "provenance": [],
      "include_colab_link": true
    },
    "kernelspec": {
      "name": "python3",
      "display_name": "Python 3"
    },
    "language_info": {
      "name": "python"
    }
  },
  "cells": [
    {
      "cell_type": "markdown",
      "metadata": {
        "id": "view-in-github",
        "colab_type": "text"
      },
      "source": [
        "<a href=\"https://colab.research.google.com/github/Honsl/Llama2-Prompt-Engineering/blob/main/Order_Coffee.ipynb\" target=\"_parent\"><img src=\"https://colab.research.google.com/assets/colab-badge.svg\" alt=\"Open In Colab\"/></a>"
      ]
    },
    {
      "cell_type": "markdown",
      "source": [
        "# Setup\n",
        "\n",
        "To run this notebook, you’ll need to create a [Replicate](https://replicate.com) account and install the Replicate python client."
      ],
      "metadata": {
        "id": "ep0A2pLDnoWK"
      }
    },
    {
      "cell_type": "code",
      "source": [
        "# install replicate client\n",
        "!pip install replicate"
      ],
      "metadata": {
        "colab": {
          "base_uri": "https://localhost:8080/"
        },
        "id": "JLTW6u8LnkDg",
        "outputId": "e646d907-11c7-469a-8e82-c36e869f3325"
      },
      "execution_count": null,
      "outputs": [
        {
          "output_type": "stream",
          "name": "stdout",
          "text": [
            "Collecting replicate\n",
            "  Downloading replicate-0.21.1-py3-none-any.whl (35 kB)\n",
            "Collecting httpx<1,>=0.21.0 (from replicate)\n",
            "  Downloading httpx-0.25.2-py3-none-any.whl (74 kB)\n",
            "\u001b[2K     \u001b[90m━━━━━━━━━━━━━━━━━━━━━━━━━━━━━━━━━━━━━━━━\u001b[0m \u001b[32m75.0/75.0 kB\u001b[0m \u001b[31m3.8 MB/s\u001b[0m eta \u001b[36m0:00:00\u001b[0m\n",
            "\u001b[?25hRequirement already satisfied: packaging in /usr/local/lib/python3.10/dist-packages (from replicate) (23.2)\n",
            "Requirement already satisfied: pydantic>1 in /usr/local/lib/python3.10/dist-packages (from replicate) (1.10.13)\n",
            "Requirement already satisfied: typing-extensions>=4.5.0 in /usr/local/lib/python3.10/dist-packages (from replicate) (4.5.0)\n",
            "Requirement already satisfied: anyio in /usr/local/lib/python3.10/dist-packages (from httpx<1,>=0.21.0->replicate) (3.7.1)\n",
            "Requirement already satisfied: certifi in /usr/local/lib/python3.10/dist-packages (from httpx<1,>=0.21.0->replicate) (2023.11.17)\n",
            "Collecting httpcore==1.* (from httpx<1,>=0.21.0->replicate)\n",
            "  Downloading httpcore-1.0.2-py3-none-any.whl (76 kB)\n",
            "\u001b[2K     \u001b[90m━━━━━━━━━━━━━━━━━━━━━━━━━━━━━━━━━━━━━━━━\u001b[0m \u001b[32m76.9/76.9 kB\u001b[0m \u001b[31m12.0 MB/s\u001b[0m eta \u001b[36m0:00:00\u001b[0m\n",
            "\u001b[?25hRequirement already satisfied: idna in /usr/local/lib/python3.10/dist-packages (from httpx<1,>=0.21.0->replicate) (3.6)\n",
            "Requirement already satisfied: sniffio in /usr/local/lib/python3.10/dist-packages (from httpx<1,>=0.21.0->replicate) (1.3.0)\n",
            "Collecting h11<0.15,>=0.13 (from httpcore==1.*->httpx<1,>=0.21.0->replicate)\n",
            "  Downloading h11-0.14.0-py3-none-any.whl (58 kB)\n",
            "\u001b[2K     \u001b[90m━━━━━━━━━━━━━━━━━━━━━━━━━━━━━━━━━━━━━━━━\u001b[0m \u001b[32m58.3/58.3 kB\u001b[0m \u001b[31m8.4 MB/s\u001b[0m eta \u001b[36m0:00:00\u001b[0m\n",
            "\u001b[?25hRequirement already satisfied: exceptiongroup in /usr/local/lib/python3.10/dist-packages (from anyio->httpx<1,>=0.21.0->replicate) (1.2.0)\n",
            "Installing collected packages: h11, httpcore, httpx, replicate\n",
            "Successfully installed h11-0.14.0 httpcore-1.0.2 httpx-0.25.2 replicate-0.21.1\n"
          ]
        }
      ]
    },
    {
      "cell_type": "markdown",
      "source": [
        "# Run and then paste in your API code"
      ],
      "metadata": {
        "id": "z6RT-MsY0Rpp"
      }
    },
    {
      "cell_type": "code",
      "source": [
        "# get a token: https://replicate.com/account\n",
        "from getpass import getpass\n",
        "import os\n",
        "from google.colab import output\n",
        "\n",
        "\n",
        "REPLICATE_API_TOKEN = getpass()\n",
        "os.environ[\"REPLICATE_API_TOKEN\"] = REPLICATE_API_TOKEN"
      ],
      "metadata": {
        "id": "5ZTkrAUhoIJE",
        "colab": {
          "base_uri": "https://localhost:8080/"
        },
        "outputId": "ba310265-ca1c-43a6-afca-99faade4852a"
      },
      "execution_count": null,
      "outputs": [
        {
          "name": "stdout",
          "output_type": "stream",
          "text": [
            "··········\n"
          ]
        }
      ]
    },
    {
      "cell_type": "markdown",
      "source": [
        "Functions to manage the length of prompts"
      ],
      "metadata": {
        "id": "n84L0j4wh9EH"
      }
    },
    {
      "cell_type": "code",
      "source": [
        "#Format the prompt message for Llama2\n",
        "def createMessage(messages):\n",
        "  message = \"\"\n",
        "  for x in messages:\n",
        "    if x[\"isUser\"]:\n",
        "      message+=\"[INST]\"+x[\"text\"]+\"[/INST]\"\n",
        "    else:\n",
        "      message+=x[\"text\"]\n",
        "  return message\n",
        "\n",
        "#Delete the oldest message\n",
        "def shrinkMessage(messages):\n",
        "  del messages[0]\n",
        "\n",
        "#Make sure the prompt is not over 3000 words or characters?\n",
        "def messagesSize(messages):\n",
        "  messageLength = 0\n",
        "  for x in messages:\n",
        "    messageLength+=len(x[\"text\"].split())\n",
        "  return messageLength"
      ],
      "metadata": {
        "id": "VWIsk5aHh8Qv"
      },
      "execution_count": null,
      "outputs": []
    },
    {
      "cell_type": "markdown",
      "source": [
        "## Responses can be slow - as at times it needs to boot up an instance to reply (3-5 mins).\n",
        "\n",
        "**2023-12-04:**\n",
        "**V1.1:** Fixed sent prompts having duplicate information\n",
        "\n",
        "\n",
        "---\n",
        "\n",
        "\n",
        "**TODO:**\n",
        "\n"
      ],
      "metadata": {
        "id": "ns7MPV6TjWJM"
      }
    },
    {
      "cell_type": "code",
      "source": [
        "import replicate\n",
        "#Speak in French.\n",
        "system_prompt = \"\"\"\n",
        "You are a server at a coffee shop.\n",
        "Start conversation with:\"Hi, good morning. My name is Allan. What would you like to order?\".\n",
        "keep responses short.\n",
        "Do not make suggestions to me, unless I ask for suggestions.\n",
        "Do not offer other items.\n",
        "Do not ask for my name.\n",
        "You only sell basic coffee and dougnuts.\n",
        "coffee is $1.50 and espresso is $2.50. The coffee sizes are small,medium and large.\n",
        "The dougnnuts you sell are glazed and chocolate and they cost $1.00.\n",
        "Do not list the products you sell and their prices, unless I ask you to list them.\n",
        "Do not ask what temperature the coffee should be.\n",
        "The coffee is served hot.\n",
        "\"\"\"\n",
        "#Max number of tokens(words) that can be sent as the prompt - DO NOT CHANGE\n",
        "MAX_TOKENS = 3000\n",
        "\n",
        "#Changable settings for Llama2\n",
        "max_new_tokens = 128\n",
        "min_new_tokens = -1\n",
        "temperature = 0.1\n",
        "top_p = 0.9\n",
        "top_k = 50\n",
        "debug = False\n",
        "\n",
        "messageHistory = [\n",
        "     {\"text\": \"Hi\",\n",
        "      \"isUser\": True}]\n",
        "\n",
        "while(new_prompt!=''):\n",
        "  iterator = replicate.run(\n",
        "  \"meta/llama-2-70b-chat:02e509c789964a7ea8736978a43525956ef40397be9033abf9fd2badfe68c9e3\",\n",
        "  input={\n",
        "                              \"prompt\": createMessage(messageHistory),\n",
        "                              \"system_prompt\": system_prompt,\n",
        "                              \"max_new_tokens\": max_new_tokens,\n",
        "                              \"min_new_tokens\": min_new_tokens,\n",
        "                              \"temperature\": temperature,\n",
        "                              \"top_p\": top_p,\n",
        "                              \"top_k\": top_k,\n",
        "                              \"debug\": debug\n",
        "                          })\n",
        "\n",
        "  message = \"\"\n",
        "  count = 0\n",
        "  for text in iterator:\n",
        "    output.clear()\n",
        "    count+=1\n",
        "    if(count>=20):\n",
        "      message+='\\n'\n",
        "      count=0\n",
        "    message+=text\n",
        "    print(message)\n",
        "  new_prompt = input('Enter next prompt: ')\n",
        "  messageHistory.append({\n",
        "      \"text\": message,\n",
        "      \"isUser\": False\n",
        "  });\n",
        "  messageHistory.append({\n",
        "      \"text\": new_prompt,\n",
        "      \"isUser\": True\n",
        "  });\n",
        "\n",
        "  while(messagesSize(messageHistory)>MAX_TOKENS):\n",
        "    shrinkMessage(messageHistory)\n",
        "  print(messageHistory)\n",
        "\n"
      ],
      "metadata": {
        "id": "hkjJKac8rlS2",
        "colab": {
          "base_uri": "https://localhost:8080/",
          "height": 459
        },
        "outputId": "f781dc19-5425-41a3-e73d-2aaf1094c609"
      },
      "execution_count": null,
      "outputs": [
        {
          "output_type": "stream",
          "name": "stdout",
          "text": [
            " Hi, good morning! My name is Allan. What would you like to order?\n",
            " Would you like a coffee or an espresso? We have small, medium, and large sizes\n",
            " available. Or maybe you'd prefer a delicious glazed or chocolate doughnut\n",
            "?\n"
          ]
        },
        {
          "output_type": "error",
          "ename": "KeyboardInterrupt",
          "evalue": "ignored",
          "traceback": [
            "\u001b[0;31m---------------------------------------------------------------------------\u001b[0m",
            "\u001b[0;31mKeyboardInterrupt\u001b[0m                         Traceback (most recent call last)",
            "\u001b[0;32m<ipython-input-11-7efb3132dd1b>\u001b[0m in \u001b[0;36m<cell line: 27>\u001b[0;34m()\u001b[0m\n\u001b[1;32m     49\u001b[0m     \u001b[0mmessage\u001b[0m\u001b[0;34m+=\u001b[0m\u001b[0mtext\u001b[0m\u001b[0;34m\u001b[0m\u001b[0;34m\u001b[0m\u001b[0m\n\u001b[1;32m     50\u001b[0m     \u001b[0mprint\u001b[0m\u001b[0;34m(\u001b[0m\u001b[0mmessage\u001b[0m\u001b[0;34m)\u001b[0m\u001b[0;34m\u001b[0m\u001b[0;34m\u001b[0m\u001b[0m\n\u001b[0;32m---> 51\u001b[0;31m   \u001b[0mnew_prompt\u001b[0m \u001b[0;34m=\u001b[0m \u001b[0minput\u001b[0m\u001b[0;34m(\u001b[0m\u001b[0;34m'Enter next prompt: '\u001b[0m\u001b[0;34m)\u001b[0m\u001b[0;34m\u001b[0m\u001b[0;34m\u001b[0m\u001b[0m\n\u001b[0m\u001b[1;32m     52\u001b[0m   \u001b[0mnew_prompt\u001b[0m \u001b[0;34m=\u001b[0m \u001b[0mold_prompts\u001b[0m\u001b[0;34m+\u001b[0m\u001b[0mmessage\u001b[0m\u001b[0;34m+\u001b[0m\u001b[0;34m\"[INST]\"\u001b[0m\u001b[0;34m+\u001b[0m\u001b[0mnew_prompt\u001b[0m\u001b[0;34m+\u001b[0m\u001b[0;34m\"[/INST]\"\u001b[0m\u001b[0;34m\u001b[0m\u001b[0;34m\u001b[0m\u001b[0m\n\u001b[1;32m     53\u001b[0m   \u001b[0mold_prompts\u001b[0m \u001b[0;34m=\u001b[0m \u001b[0mnew_prompt\u001b[0m\u001b[0;34m\u001b[0m\u001b[0;34m\u001b[0m\u001b[0m\n",
            "\u001b[0;32m/usr/local/lib/python3.10/dist-packages/ipykernel/kernelbase.py\u001b[0m in \u001b[0;36mraw_input\u001b[0;34m(self, prompt)\u001b[0m\n\u001b[1;32m    849\u001b[0m                 \u001b[0;34m\"raw_input was called, but this frontend does not support input requests.\"\u001b[0m\u001b[0;34m\u001b[0m\u001b[0;34m\u001b[0m\u001b[0m\n\u001b[1;32m    850\u001b[0m             )\n\u001b[0;32m--> 851\u001b[0;31m         return self._input_request(str(prompt),\n\u001b[0m\u001b[1;32m    852\u001b[0m             \u001b[0mself\u001b[0m\u001b[0;34m.\u001b[0m\u001b[0m_parent_ident\u001b[0m\u001b[0;34m,\u001b[0m\u001b[0;34m\u001b[0m\u001b[0;34m\u001b[0m\u001b[0m\n\u001b[1;32m    853\u001b[0m             \u001b[0mself\u001b[0m\u001b[0;34m.\u001b[0m\u001b[0m_parent_header\u001b[0m\u001b[0;34m,\u001b[0m\u001b[0;34m\u001b[0m\u001b[0;34m\u001b[0m\u001b[0m\n",
            "\u001b[0;32m/usr/local/lib/python3.10/dist-packages/ipykernel/kernelbase.py\u001b[0m in \u001b[0;36m_input_request\u001b[0;34m(self, prompt, ident, parent, password)\u001b[0m\n\u001b[1;32m    893\u001b[0m             \u001b[0;32mexcept\u001b[0m \u001b[0mKeyboardInterrupt\u001b[0m\u001b[0;34m:\u001b[0m\u001b[0;34m\u001b[0m\u001b[0;34m\u001b[0m\u001b[0m\n\u001b[1;32m    894\u001b[0m                 \u001b[0;31m# re-raise KeyboardInterrupt, to truncate traceback\u001b[0m\u001b[0;34m\u001b[0m\u001b[0;34m\u001b[0m\u001b[0m\n\u001b[0;32m--> 895\u001b[0;31m                 \u001b[0;32mraise\u001b[0m \u001b[0mKeyboardInterrupt\u001b[0m\u001b[0;34m(\u001b[0m\u001b[0;34m\"Interrupted by user\"\u001b[0m\u001b[0;34m)\u001b[0m \u001b[0;32mfrom\u001b[0m \u001b[0;32mNone\u001b[0m\u001b[0;34m\u001b[0m\u001b[0;34m\u001b[0m\u001b[0m\n\u001b[0m\u001b[1;32m    896\u001b[0m             \u001b[0;32mexcept\u001b[0m \u001b[0mException\u001b[0m \u001b[0;32mas\u001b[0m \u001b[0me\u001b[0m\u001b[0;34m:\u001b[0m\u001b[0;34m\u001b[0m\u001b[0;34m\u001b[0m\u001b[0m\n\u001b[1;32m    897\u001b[0m                 \u001b[0mself\u001b[0m\u001b[0;34m.\u001b[0m\u001b[0mlog\u001b[0m\u001b[0;34m.\u001b[0m\u001b[0mwarning\u001b[0m\u001b[0;34m(\u001b[0m\u001b[0;34m\"Invalid Message:\"\u001b[0m\u001b[0;34m,\u001b[0m \u001b[0mexc_info\u001b[0m\u001b[0;34m=\u001b[0m\u001b[0;32mTrue\u001b[0m\u001b[0;34m)\u001b[0m\u001b[0;34m\u001b[0m\u001b[0;34m\u001b[0m\u001b[0m\n",
            "\u001b[0;31mKeyboardInterrupt\u001b[0m: Interrupted by user"
          ]
        }
      ]
    }
  ]
}