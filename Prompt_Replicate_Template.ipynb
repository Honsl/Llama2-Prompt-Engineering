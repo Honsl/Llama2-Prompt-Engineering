{
  "cells": [
    {
      "cell_type": "markdown",
      "metadata": {
        "id": "view-in-github",
        "colab_type": "text"
      },
      "source": [
        "<a href=\"https://colab.research.google.com/github/Honsl/Llama2-Prompt-Engineering/blob/main/Prompt_Replicate_Template.ipynb\" target=\"_parent\"><img src=\"https://colab.research.google.com/assets/colab-badge.svg\" alt=\"Open In Colab\"/></a>"
      ]
    },
    {
      "cell_type": "markdown",
      "metadata": {
        "id": "ep0A2pLDnoWK"
      },
      "source": [
        "# Setup\n",
        "\n",
        "To run this notebook, you’ll need to create a [Replicate](https://replicate.com) account and install the Replicate python client."
      ]
    },
    {
      "cell_type": "code",
      "execution_count": null,
      "metadata": {
        "colab": {
          "base_uri": "https://localhost:8080/"
        },
        "id": "JLTW6u8LnkDg",
        "outputId": "326abf17-ea9c-4648-d1c6-20d68e7cdb0d"
      },
      "outputs": [
        {
          "name": "stdout",
          "output_type": "stream",
          "text": [
            "Collecting replicate\n",
            "  Downloading replicate-0.22.0-py3-none-any.whl (35 kB)\n",
            "Collecting httpx<1,>=0.21.0 (from replicate)\n",
            "  Downloading httpx-0.26.0-py3-none-any.whl (75 kB)\n",
            "\u001b[2K     \u001b[90m━━━━━━━━━━━━━━━━━━━━━━━━━━━━━━━━━━━━━━━━\u001b[0m \u001b[32m75.9/75.9 kB\u001b[0m \u001b[31m3.1 MB/s\u001b[0m eta \u001b[36m0:00:00\u001b[0m\n",
            "\u001b[?25hRequirement already satisfied: packaging in /usr/local/lib/python3.10/dist-packages (from replicate) (23.2)\n",
            "Requirement already satisfied: pydantic>1 in /usr/local/lib/python3.10/dist-packages (from replicate) (1.10.13)\n",
            "Requirement already satisfied: typing-extensions>=4.5.0 in /usr/local/lib/python3.10/dist-packages (from replicate) (4.5.0)\n",
            "Requirement already satisfied: anyio in /usr/local/lib/python3.10/dist-packages (from httpx<1,>=0.21.0->replicate) (3.7.1)\n",
            "Requirement already satisfied: certifi in /usr/local/lib/python3.10/dist-packages (from httpx<1,>=0.21.0->replicate) (2023.11.17)\n",
            "Collecting httpcore==1.* (from httpx<1,>=0.21.0->replicate)\n",
            "  Downloading httpcore-1.0.2-py3-none-any.whl (76 kB)\n",
            "\u001b[2K     \u001b[90m━━━━━━━━━━━━━━━━━━━━━━━━━━━━━━━━━━━━━━━━\u001b[0m \u001b[32m76.9/76.9 kB\u001b[0m \u001b[31m5.2 MB/s\u001b[0m eta \u001b[36m0:00:00\u001b[0m\n",
            "\u001b[?25hRequirement already satisfied: idna in /usr/local/lib/python3.10/dist-packages (from httpx<1,>=0.21.0->replicate) (3.6)\n",
            "Requirement already satisfied: sniffio in /usr/local/lib/python3.10/dist-packages (from httpx<1,>=0.21.0->replicate) (1.3.0)\n",
            "Collecting h11<0.15,>=0.13 (from httpcore==1.*->httpx<1,>=0.21.0->replicate)\n",
            "  Downloading h11-0.14.0-py3-none-any.whl (58 kB)\n",
            "\u001b[2K     \u001b[90m━━━━━━━━━━━━━━━━━━━━━━━━━━━━━━━━━━━━━━━━\u001b[0m \u001b[32m58.3/58.3 kB\u001b[0m \u001b[31m2.0 MB/s\u001b[0m eta \u001b[36m0:00:00\u001b[0m\n",
            "\u001b[?25hRequirement already satisfied: exceptiongroup in /usr/local/lib/python3.10/dist-packages (from anyio->httpx<1,>=0.21.0->replicate) (1.2.0)\n",
            "Installing collected packages: h11, httpcore, httpx, replicate\n",
            "Successfully installed h11-0.14.0 httpcore-1.0.2 httpx-0.26.0 replicate-0.22.0\n"
          ]
        }
      ],
      "source": [
        "# install replicate client\n",
        "!pip install replicate"
      ]
    },
    {
      "cell_type": "markdown",
      "metadata": {
        "id": "z6RT-MsY0Rpp"
      },
      "source": [
        "# Run and then paste in your API code"
      ]
    },
    {
      "cell_type": "code",
      "execution_count": null,
      "metadata": {
        "colab": {
          "base_uri": "https://localhost:8080/"
        },
        "id": "5ZTkrAUhoIJE",
        "outputId": "19b19d8e-bfaa-457a-fcc6-96747e980bb6"
      },
      "outputs": [
        {
          "name": "stdout",
          "output_type": "stream",
          "text": [
            "··········\n"
          ]
        }
      ],
      "source": [
        "# get a token: https://replicate.com/account\n",
        "from getpass import getpass\n",
        "import os\n",
        "from google.colab import output\n",
        "\n",
        "\n",
        "REPLICATE_API_TOKEN = getpass()\n",
        "os.environ[\"REPLICATE_API_TOKEN\"] = REPLICATE_API_TOKEN"
      ]
    },
    {
      "cell_type": "markdown",
      "metadata": {
        "id": "YbIO8W4ybKKp"
      },
      "source": [
        "Functions to manage the length of prompts"
      ]
    },
    {
      "cell_type": "code",
      "execution_count": null,
      "metadata": {
        "id": "A-8fyGOzbFL-"
      },
      "outputs": [],
      "source": [
        "#Format the prompt message for Llama2\n",
        "def createMessage(messages):\n",
        "  message = \"\"\n",
        "  for x in messages:\n",
        "    #if the text is from the user surround with INST\n",
        "    if x[\"isUser\"]:\n",
        "      message+=\"[INST]\"+x[\"text\"]+\"[/INST]\"\n",
        "    #else it is a message from Llama2\n",
        "    else:\n",
        "      message+=x[\"text\"]\n",
        "  return message\n",
        "\n",
        "#Delete the oldest message\n",
        "def shrinkMessage(messages):\n",
        "  del messages[0]\n",
        "\n",
        "#Get the current word count of the prompt\n",
        "def messagesSize(messages):\n",
        "  messageLength = 0\n",
        "  for x in messages:\n",
        "    messageLength+=len(x[\"text\"].split())\n",
        "  return messageLength"
      ]
    },
    {
      "cell_type": "markdown",
      "metadata": {
        "id": "ns7MPV6TjWJM"
      },
      "source": [
        "## Responses can be slow - as at times it needs to boot up an instance to reply (3-5 mins).\n",
        "\n",
        "**2023-12-04:**\n",
        "**V1.1:** Fixed sent prompts having duplicate information\n",
        "\n",
        "**2023-12-06:**\n",
        "**V1.2:** Message are now stored in Dictionary and remove old messages if prompt is over max tokens\n",
        "\n",
        "---\n",
        "\n",
        "\n",
        "**TODO:**\n",
        "\n",
        "\n"
      ]
    },
    {
      "cell_type": "code",
      "execution_count": null,
      "metadata": {
        "colab": {
          "background_save": true,
          "base_uri": "https://localhost:8080/"
        },
        "id": "hkjJKac8rlS2",
        "outputId": "a8539e98-425a-4b09-dd50-c5903b06c372"
      },
      "outputs": [
        {
          "name": "stdout",
          "output_type": "stream",
          "text": [
            " Sure thing! That'll be $2.50 please. Would you like the\n",
            " coffee hot or icy?\n"
          ]
        }
      ],
      "source": [
        "import replicate\n",
        "#Speak in French.\n",
        "system_prompt = \"\"\"\n",
        "You are a server at a coffee shop.\n",
        "Start conversation with:\"Hi, good morning. My name is Allan. What would you like to order?\".\n",
        "keep responses short.\n",
        "Do not make suggestions to me, unless I ask for suggestions.\n",
        "Do not offer other items.\n",
        "Do not ask for my name.\n",
        "You only sell basic coffee and dougnuts.\n",
        "coffee is $1.50 and espresso is $2.50. The coffee sizes are small,medium and large.\n",
        "The dougnnuts you sell are glazed and chocolate and they cost $1.00.\n",
        "Do not list the products you sell and their prices, unless I ask you to list them.\n",
        "Do not ask what temperature the coffee should be.\n",
        "The coffee is served hot.\n",
        "\"\"\"\n",
        "#Max number of tokens(words) that can be sent as the prompt - DO NOT CHANGE\n",
        "MAX_TOKENS = 3000\n",
        "\n",
        "#Changable settings for Llama2\n",
        "max_new_tokens = 128 #default 128\n",
        "min_new_tokens = -1 #default -1\n",
        "temperature = 0.1 #default 0.75\n",
        "top_p = 0.9 #default 0.9\n",
        "top_k = 50 #default 50\n",
        "debug = False\n",
        "\n",
        "messageHistory = [\n",
        "     {\"text\": \"Hi\",\n",
        "      \"isUser\": True}]\n",
        "new_prompt = 'empty'\n",
        "#continue to prompt the user untill empty string\n",
        "while(new_prompt!=''):\n",
        "  iterator = replicate.run(\n",
        "  \"meta/llama-2-70b-chat:02e509c789964a7ea8736978a43525956ef40397be9033abf9fd2badfe68c9e3\",\n",
        "  input={\n",
        "                              \"prompt\": createMessage(messageHistory),\n",
        "                              \"system_prompt\": system_prompt,\n",
        "                              \"max_new_tokens\": max_new_tokens,\n",
        "                              \"min_new_tokens\": min_new_tokens,\n",
        "                              \"temperature\": temperature,\n",
        "                              \"top_p\": top_p,\n",
        "                              \"top_k\": top_k,\n",
        "                              \"debug\": debug\n",
        "                          })\n",
        "#output the message from Llama2\n",
        "  message = \"\"\n",
        "  count = 0\n",
        "  for text in iterator:\n",
        "    output.clear()\n",
        "    count+=1\n",
        "    if(count>=20):\n",
        "      message+='\\n'\n",
        "      count=0\n",
        "    message+=text\n",
        "    print(message)\n",
        "#ask for a new prompt from the user\n",
        "  new_prompt = input('Enter next prompt: ')\n",
        "#save the response from Llama2\n",
        "  messageHistory.append({\n",
        "      \"text\": message,\n",
        "      \"isUser\": False\n",
        "  });\n",
        "#save the new prompt from the user\n",
        "  messageHistory.append({\n",
        "      \"text\": new_prompt,\n",
        "      \"isUser\": True\n",
        "  });\n",
        "#make sure the prompt messages does not go over the max # of tokens\n",
        "#and remove the oldest message if it is over\n",
        "  while(messagesSize(messageHistory)>MAX_TOKENS):\n",
        "    shrinkMessage(messageHistory)\n",
        "\n",
        "\n",
        "\n",
        "\n",
        "\n"
      ]
    }
  ],
  "metadata": {
    "colab": {
      "provenance": [],
      "include_colab_link": true
    },
    "kernelspec": {
      "display_name": "Python 3",
      "name": "python3"
    },
    "language_info": {
      "name": "python"
    }
  },
  "nbformat": 4,
  "nbformat_minor": 0
}